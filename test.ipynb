{
 "cells": [
  {
   "cell_type": "code",
   "execution_count": 1,
   "id": "1b603b27",
   "metadata": {},
   "outputs": [
    {
     "name": "stdout",
     "output_type": "stream",
     "text": [
      "Datasets in 'data/ACDC2017/ACDC_for2D/TestSet_volumes/patient004_frame15.h5': ['image', 'label']\n",
      "\n",
      "  • image        shape=(10, 256, 232), dtype=float64\n",
      "  • label        shape=(10, 256, 232), dtype=uint8\n"
     ]
    }
   ],
   "source": [
    "import h5py\n",
    "\n",
    "def inspect_h5(path):\n",
    "    \"\"\"\n",
    "    Mở file .h5 tại đường dẫn `path`,\n",
    "    liệt kê các dataset, shape và dtype của chúng.\n",
    "    \"\"\"\n",
    "    with h5py.File(path, 'r') as f:\n",
    "        keys = list(f.keys())\n",
    "        print(f\"Datasets in {path!r}: {keys}\\n\")\n",
    "        for k in keys:\n",
    "            ds = f[k]\n",
    "            print(f\"  • {k:12s} shape={ds.shape}, dtype={ds.dtype}\")\n",
    "\n",
    "if __name__ == \"__main__\":\n",
    "    file_path = \"data/ACDC2017/ACDC_for2D/TestSet_volumes/patient004_frame15.h5\"  # ví dụ\n",
    "    inspect_h5(file_path)\n"
   ]
  },
  {
   "cell_type": "code",
   "execution_count": null,
   "id": "1736c98a",
   "metadata": {},
   "outputs": [],
   "source": []
  }
 ],
 "metadata": {
  "kernelspec": {
   "display_name": "crossmatch",
   "language": "python",
   "name": "python3"
  },
  "language_info": {
   "codemirror_mode": {
    "name": "ipython",
    "version": 3
   },
   "file_extension": ".py",
   "mimetype": "text/x-python",
   "name": "python",
   "nbconvert_exporter": "python",
   "pygments_lexer": "ipython3",
   "version": "3.11.11"
  }
 },
 "nbformat": 4,
 "nbformat_minor": 5
}
